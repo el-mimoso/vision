{
  "cells": [
    {
      "cell_type": "code",
      "execution_count": 1,
      "metadata": {
        "id": "N1fx5zGu99Ss"
      },
      "outputs": [],
      "source": [
        "import numpy as np\n",
        "import matplotlib.pyplot as plt\n",
        "import cv2\n",
        "# from google.colab.patches import cv2_imshow\n",
        "import urllib.request\n",
        "from time import perf_counter"
      ]
    },
    {
      "cell_type": "code",
      "execution_count": 2,
      "metadata": {
        "id": "R0u0iENn-I1J"
      },
      "outputs": [],
      "source": [
        "# req = urllib.request.urlopen('https://placekitten.com/512/512')\n",
        "req = urllib.request.urlopen('https://www.bioparcvalencia.es/wp-content/uploads/2017/06/ficha-animal-bioparc-valencia-chimpance.jpg')\n",
        "arr = np.asarray(bytearray(req.read()), dtype=np.uint8)\n",
        "img = cv2.imdecode(arr,-1)\n",
        "gray = cv2.cvtColor(img, cv2.COLOR_BGR2GRAY)"
      ]
    },
    {
      "cell_type": "code",
      "execution_count": 3,
      "metadata": {
        "id": "E6Sddgh4-VNy"
      },
      "outputs": [],
      "source": [
        "def completeConvolution(img, kernel):\n",
        "    kernel = np.flip(kernel)\n",
        "    nrows, ncols = img.shape\n",
        "    krows, kcols = kernel.shape\n",
        "    pad_size = (krows - 1) // 2\n",
        "    padded_img = np.pad(img, pad_size, mode='constant')\n",
        "    output = np.zeros((nrows, ncols))\n",
        "    for i in range(nrows):\n",
        "        for j in range(ncols):\n",
        "            output[i, j] = np.sum(\n",
        "                padded_img[i:i+krows, j:j+kcols] * kernel)\n",
        "    return output\n",
        "\n",
        "\n",
        "def convolucion4F(img, kernel):\n",
        "  \"\"\"\n",
        "  Regresa imagen con operación de ventana, \n",
        "  args: imagengray y matriz kernel \n",
        "  \"\"\"\n",
        "  kernel = np.flip(kernel)\n",
        "  nr = img.shape[0]\n",
        "  nc = img.shape[1]\n",
        "\n",
        "  nk = kernel.shape[0]//2\n",
        "  nl = kernel.shape[1]//2\n",
        "  \n",
        "  out = np.zeros(img.shape)\n",
        "\n",
        "  # con 4 ciclos for\n",
        "  for r in range(nr):\n",
        "    for c in range(nc):\n",
        "      for k in range(-nk, nk+1):\n",
        "        for l in range(-nl, nl+1):\n",
        "          if k+r >= 0 and l+c >=0 and k+r<nr and l+c<nc:\n",
        "            out[r,c] += kernel[k+nk,l+nk]*img[r+k,c+l]\n",
        "            # print(out)\n",
        "  return out"
      ]
    },
    {
      "cell_type": "code",
      "execution_count": 4,
      "metadata": {
        "colab": {
          "base_uri": "https://localhost:8080/"
        },
        "id": "AbVlQVUq-egd",
        "outputId": "ff6002ba-efff-4191-95c3-5d08d84c11ff"
      },
      "outputs": [
        {
          "name": "stdout",
          "output_type": "stream",
          "text": [
            "2 ciclos\n",
            "[[ 12.  24.  36.  48.  60.  72.  84.  96. 108.  87.]\n",
            " [ 16.  32.  48.  64.  80.  96. 112. 128. 144. 116.]\n",
            " [ 16.  32.  48.  64.  80.  96. 112. 128. 144. 116.]\n",
            " [ 16.  32.  48.  64.  80.  96. 112. 128. 144. 116.]\n",
            " [ 16.  32.  48.  64.  80.  96. 112. 128. 144. 116.]\n",
            " [ 16.  32.  48.  64.  80.  96. 112. 128. 144. 116.]\n",
            " [ 16.  32.  48.  64.  80.  96. 112. 128. 144. 116.]\n",
            " [ 16.  32.  48.  64.  80.  96. 112. 128. 144. 116.]\n",
            " [ 16.  32.  48.  64.  80.  96. 112. 128. 144. 116.]\n",
            " [ 12.  24.  36.  48.  60.  72.  84.  96. 108.  87.]]\n",
            "4 ciclos\n",
            "[[ 12.  24.  36.  48.  60.  72.  84.  96. 108.  87.]\n",
            " [ 16.  32.  48.  64.  80.  96. 112. 128. 144. 116.]\n",
            " [ 16.  32.  48.  64.  80.  96. 112. 128. 144. 116.]\n",
            " [ 16.  32.  48.  64.  80.  96. 112. 128. 144. 116.]\n",
            " [ 16.  32.  48.  64.  80.  96. 112. 128. 144. 116.]\n",
            " [ 16.  32.  48.  64.  80.  96. 112. 128. 144. 116.]\n",
            " [ 16.  32.  48.  64.  80.  96. 112. 128. 144. 116.]\n",
            " [ 16.  32.  48.  64.  80.  96. 112. 128. 144. 116.]\n",
            " [ 16.  32.  48.  64.  80.  96. 112. 128. 144. 116.]\n",
            " [ 12.  24.  36.  48.  60.  72.  84.  96. 108.  87.]]\n",
            "[[ True  True  True  True  True  True  True  True  True  True]\n",
            " [ True  True  True  True  True  True  True  True  True  True]\n",
            " [ True  True  True  True  True  True  True  True  True  True]\n",
            " [ True  True  True  True  True  True  True  True  True  True]\n",
            " [ True  True  True  True  True  True  True  True  True  True]\n",
            " [ True  True  True  True  True  True  True  True  True  True]\n",
            " [ True  True  True  True  True  True  True  True  True  True]\n",
            " [ True  True  True  True  True  True  True  True  True  True]\n",
            " [ True  True  True  True  True  True  True  True  True  True]\n",
            " [ True  True  True  True  True  True  True  True  True  True]]\n"
          ]
        }
      ],
      "source": [
        "x=np.array([[1,2,3,4,5,6,7,8,9,10],\n",
        "            [1,2,3,4,5,6,7,8,9,10],\n",
        "            [1,2,3,4,5,6,7,8,9,10],\n",
        "            [1,2,3,4,5,6,7,8,9,10],\n",
        "            [1,2,3,4,5,6,7,8,9,10],\n",
        "            [1,2,3,4,5,6,7,8,9,10],\n",
        "            [1,2,3,4,5,6,7,8,9,10],\n",
        "            [1,2,3,4,5,6,7,8,9,10],\n",
        "            [1,2,3,4,5,6,7,8,9,10],\n",
        "            [1,2,3,4,5,6,7,8,9,10]])\n",
        "\n",
        "h=np.array([\n",
        "  [1,2,1],\n",
        "  [2,4,2],\n",
        "  [1,2,1]\n",
        "])\n",
        "\n",
        "# x = np.array([[1, 2, 0, 0],\n",
        "#               [5, 3, 0, 4],\n",
        "#               [0, 0, 0, 7],\n",
        "#               [9, 3, 0, 0]])\n",
        "\n",
        "# h = np.array([[1,1,1],[1,1,0],[1,0,0]])\n",
        "\n",
        "# x = np.array([[1, 2, 3],\n",
        "#                 [4, 5, 6],\n",
        "#                 [7, 8, 9]])\n",
        "# h = np.array([[1, 0, -1],\n",
        "#                    [2, 0, -2],\n",
        "#                    [1, 0, -1]])\n",
        "\n",
        "convImg = completeConvolution(x, h)\n",
        "vimg= convolucion4F(x, h)\n",
        "\n",
        "\n",
        "print('2 ciclos')\n",
        "print(convImg)\n",
        "\n",
        "print('4 ciclos')\n",
        "print(vimg)\n",
        "\n",
        "print(convImg==vimg)\n"
      ]
    },
    {
      "cell_type": "code",
      "execution_count": 5,
      "metadata": {
        "id": "Y5cg8P8uWPFw"
      },
      "outputs": [],
      "source": [
        "\n",
        "def convDesacoplada(img, kernel):\n",
        "  kernel = kernel[::-1]\n",
        "  nr = img.shape[0]\n",
        "  nc = img.shape[1]\n",
        "  output = np.zeros(img.shape)\n",
        "  m = len(kernel) // 2\n",
        "\n",
        "  for l in range(nr):\n",
        "    for n in range(nc):\n",
        "      for k in range(-m, m+1):\n",
        "          if n + k < 0 or n + k >= nc:\n",
        "              continue\n",
        "          # print(l,n,k, img[l,n+k], kernel[k+m])    \n",
        "          output[l,n] += img[l,n+k] * kernel[k+m]\n",
        "  # print( output)\n",
        "\n",
        "  output2 = np.zeros(img.shape)\n",
        "  for l in range(nr):\n",
        "    for n in range(nc):\n",
        "      for k in range(-m, m+1):\n",
        "          if l + k < 0 or l + k >= nr:\n",
        "              continue\n",
        "          # print(l,n,k, output[l+k,n], kernel[k+m])    \n",
        "          output2[l,n] += output[l+k,n]* kernel[k+m]\n",
        "          # print( output)\n",
        "\n",
        "  return output2"
      ]
    },
    {
      "cell_type": "code",
      "execution_count": 6,
      "metadata": {
        "colab": {
          "base_uri": "https://localhost:8080/"
        },
        "id": "Tq8Ri49Yarem",
        "outputId": "ae4e8d81-d2d6-4d3c-c69d-4f561200c622"
      },
      "outputs": [
        {
          "name": "stdout",
          "output_type": "stream",
          "text": [
            "[[ 12.  24.  36.  48.  60.  72.  84.  96. 108.  87.]\n",
            " [ 16.  32.  48.  64.  80.  96. 112. 128. 144. 116.]\n",
            " [ 12.  24.  36.  48.  60.  72.  84.  96. 108.  87.]]\n"
          ]
        }
      ],
      "source": [
        "h= np.array([1,2,1])\n",
        "x=np.array([[1,2,3,4,5,6,7,8,9,10],\n",
        "            [1,2,3,4,5,6,7,8,9,10],\n",
        "            [1,2,3,4,5,6,7,8,9,10]])\n",
        "print(convDesacoplada(x,h))"
      ]
    },
    {
      "cell_type": "code",
      "execution_count": 7,
      "metadata": {
        "colab": {
          "base_uri": "https://localhost:8080/"
        },
        "id": "-VswgHWTQU5C",
        "outputId": "5a0d851d-a7fa-4a2a-be49-0bef008d0365"
      },
      "outputs": [
        {
          "name": "stdout",
          "output_type": "stream",
          "text": [
            "[[ 12.  24.  36.  48.  60.  72.  84.  96. 108.  87.]\n",
            " [ 16.  32.  48.  64.  80.  96. 112. 128. 144. 116.]\n",
            " [ 16.  32.  48.  64.  80.  96. 112. 128. 144. 116.]\n",
            " [ 16.  32.  48.  64.  80.  96. 112. 128. 144. 116.]\n",
            " [ 16.  32.  48.  64.  80.  96. 112. 128. 144. 116.]\n",
            " [ 16.  32.  48.  64.  80.  96. 112. 128. 144. 116.]\n",
            " [ 16.  32.  48.  64.  80.  96. 112. 128. 144. 116.]\n",
            " [ 16.  32.  48.  64.  80.  96. 112. 128. 144. 116.]\n",
            " [ 16.  32.  48.  64.  80.  96. 112. 128. 144. 116.]\n",
            " [ 12.  24.  36.  48.  60.  72.  84.  96. 108.  87.]]\n"
          ]
        }
      ],
      "source": [
        "x=np.array([[1,2,3,4,5,6,7,8,9,10],\n",
        "            [1,2,3,4,5,6,7,8,9,10],\n",
        "            [1,2,3,4,5,6,7,8,9,10],\n",
        "            [1,2,3,4,5,6,7,8,9,10],\n",
        "            [1,2,3,4,5,6,7,8,9,10],\n",
        "            [1,2,3,4,5,6,7,8,9,10],\n",
        "            [1,2,3,4,5,6,7,8,9,10],\n",
        "            [1,2,3,4,5,6,7,8,9,10],\n",
        "            [1,2,3,4,5,6,7,8,9,10],\n",
        "            [1,2,3,4,5,6,7,8,9,10]])\n",
        "\n",
        "h =np.array([1,2,1])\n",
        "\n",
        "def convolveDesacopladaDot(img, kernel):\n",
        "    kernel = np.flip(kernel)\n",
        "    nrows, ncols = img.shape\n",
        "    k_size = kernel.size\n",
        "    # krows, kcols = kernel.shape\n",
        "    pad_size = (k_size - 1) // 2\n",
        "    padded_img = np.pad(img, pad_size, mode='constant')\n",
        "    # print(padded_img)\n",
        "    output = np.zeros((nrows, ncols))\n",
        "    for i in range(ncols):\n",
        "      output[i,: ]= convolveDot(img[i, :], kernel)\n",
        "    # print(output)\n",
        "    output2 = np.zeros((nrows, ncols))\n",
        "    for j in range(nrows):\n",
        "      output2[:, j ]= convolveDot(output[ :, j], kernel)\n",
        "      # print(img[:, j])\n",
        "    print(output2)\n",
        "\n",
        "def convolveDot(signal, kernel):\n",
        "    ker_size = kernel.size\n",
        "    sig_size = signal.size\n",
        "    kernel = kernel[::-1]\n",
        "    pad_size = (ker_size - 1) // 2\n",
        "    padded_signal = np.pad(signal, pad_size, mode='constant')\n",
        "    output = np.zeros(sig_size)\n",
        "    output = [np.dot(padded_signal[k:k+ker_size], kernel) for k in range(sig_size)]\n",
        "    # print(f\"a: {output}\" )\n",
        "    # for k in range(sig_size):\n",
        "    #     output[k] = np.dot(padded_signal[k:k+ker_size], kernel)\n",
        "    # print(output)\n",
        "    return output\n",
        "\n",
        "convolveDesacopladaDot(x,h)\n",
        "# print(x)"
      ]
    },
    {
      "cell_type": "code",
      "execution_count": 8,
      "metadata": {
        "colab": {
          "base_uri": "https://localhost:8080/",
          "height": 329
        },
        "id": "Ylcn0gaLNTM5",
        "outputId": "0f288375-05d8-4b16-972a-5dcc3e0cfd0d"
      },
      "outputs": [
        {
          "ename": "ValueError",
          "evalue": "convolve2d inputs must both be 2-D arrays",
          "output_type": "error",
          "traceback": [
            "\u001b[0;31m---------------------------------------------------------------------------\u001b[0m",
            "\u001b[0;31mValueError\u001b[0m                                Traceback (most recent call last)",
            "Cell \u001b[0;32mIn[8], line 3\u001b[0m\n\u001b[1;32m      1\u001b[0m \u001b[39mfrom\u001b[39;00m \u001b[39mscipy\u001b[39;00m\u001b[39m.\u001b[39;00m\u001b[39msignal\u001b[39;00m \u001b[39mimport\u001b[39;00m convolve2d\n\u001b[0;32m----> 3\u001b[0m scipi \u001b[39m=\u001b[39m convolve2d(x,h, mode\u001b[39m=\u001b[39;49m\u001b[39m'\u001b[39;49m\u001b[39msame\u001b[39;49m\u001b[39m'\u001b[39;49m)\n",
            "File \u001b[0;32m~/anaconda3/lib/python3.10/site-packages/scipy/signal/_signaltools.py:1715\u001b[0m, in \u001b[0;36mconvolve2d\u001b[0;34m(in1, in2, mode, boundary, fillvalue)\u001b[0m\n\u001b[1;32m   1712\u001b[0m in2 \u001b[39m=\u001b[39m np\u001b[39m.\u001b[39masarray(in2)\n\u001b[1;32m   1714\u001b[0m \u001b[39mif\u001b[39;00m \u001b[39mnot\u001b[39;00m in1\u001b[39m.\u001b[39mndim \u001b[39m==\u001b[39m in2\u001b[39m.\u001b[39mndim \u001b[39m==\u001b[39m \u001b[39m2\u001b[39m:\n\u001b[0;32m-> 1715\u001b[0m     \u001b[39mraise\u001b[39;00m \u001b[39mValueError\u001b[39;00m(\u001b[39m'\u001b[39m\u001b[39mconvolve2d inputs must both be 2-D arrays\u001b[39m\u001b[39m'\u001b[39m)\n\u001b[1;32m   1717\u001b[0m \u001b[39mif\u001b[39;00m _inputs_swap_needed(mode, in1\u001b[39m.\u001b[39mshape, in2\u001b[39m.\u001b[39mshape):\n\u001b[1;32m   1718\u001b[0m     in1, in2 \u001b[39m=\u001b[39m in2, in1\n",
            "\u001b[0;31mValueError\u001b[0m: convolve2d inputs must both be 2-D arrays"
          ]
        }
      ],
      "source": [
        "from scipy.signal import convolve2d\n",
        "\n",
        "scipi = convolve2d(x,h, mode='same')"
      ]
    }
  ],
  "metadata": {
    "colab": {
      "provenance": []
    },
    "kernelspec": {
      "display_name": "Python 3",
      "name": "python3"
    },
    "language_info": {
      "codemirror_mode": {
        "name": "ipython",
        "version": 3
      },
      "file_extension": ".py",
      "mimetype": "text/x-python",
      "name": "python",
      "nbconvert_exporter": "python",
      "pygments_lexer": "ipython3",
      "version": "3.10.9"
    }
  },
  "nbformat": 4,
  "nbformat_minor": 0
}
