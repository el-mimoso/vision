{
 "cells": [
  {
   "cell_type": "code",
   "execution_count": 11,
   "metadata": {},
   "outputs": [],
   "source": [
    "import numpy as np\n",
    "from time import perf_counter\n",
    "import cv2\n"
   ]
  },
  {
   "cell_type": "code",
   "execution_count": 12,
   "metadata": {},
   "outputs": [],
   "source": [
    "x = np.ones((5, 7), dtype=np.uint8)\n"
   ]
  },
  {
   "cell_type": "code",
   "execution_count": 13,
   "metadata": {},
   "outputs": [
    {
     "name": "stdout",
     "output_type": "stream",
     "text": [
      "Time:  9.549999958835542e-05\n",
      "[[ 1.  2.  3.  4.  5.  6.  7.]\n",
      " [ 2.  4.  6.  8. 10. 12. 14.]\n",
      " [ 3.  6.  9. 12. 15. 18. 21.]\n",
      " [ 4.  8. 12. 16. 20. 24. 28.]\n",
      " [ 5. 10. 15. 20. 25. 30. 35.]]\n"
     ]
    }
   ],
   "source": [
    "\n",
    "def integralImg(img):\n",
    "    nr = img.shape[0]\n",
    "    nc = img.shape[1]\n",
    "    intImg = np.zeros((nr, nc))\n",
    "    for r in range(nr):\n",
    "        for c in range(nc):\n",
    "            intImg[r, c] = img[r, c]\n",
    "            if r > 0:\n",
    "                intImg[r, c] += intImg[r-1, c]\n",
    "            if c > 0:\n",
    "                intImg[r, c] += intImg[r, c-1]\n",
    "            if r > 0 and c > 0:\n",
    "                intImg[r, c] -= intImg[r-1, c-1]\n",
    "    return intImg\n",
    "\n",
    "\n",
    "def integralImgLC(img):\n",
    "    nr = img.shape[0]\n",
    "    nc = img.shape[1]\n",
    "    intImg = np.zeros((nr, nc))\n",
    "    intImg[0, 0] = img[0, 0]\n",
    "    intImg[0, 1:] = img[0, :-1].cumsum()\n",
    "    intImg[1:, 0] = img[:-1, 0].cumsum(axis=0)\n",
    "    intImg[1:, 1:] = (intImg[:-1, 1:] + intImg[1:, :-1] -\n",
    "                      intImg[:-1, :-1]) + img[1:, 1:]\n",
    "    return intImg\n",
    "\n",
    "\n",
    "ticks = perf_counter()\n",
    "intImg = integralImg(x)\n",
    "ticks = perf_counter() - ticks\n",
    "print(\"Time: \", ticks)\n",
    "print(intImg)\n",
    "\n",
    "# ticks = perf_counter()\n",
    "# intImg = integralImgLC(x)\n",
    "# ticks = perf_counter() - ticks\n",
    "# print(\"Time2: \", ticks)\n",
    "# print(intImg)\n"
   ]
  },
  {
   "cell_type": "code",
   "execution_count": 19,
   "metadata": {},
   "outputs": [
    {
     "name": "stdout",
     "output_type": "stream",
     "text": [
      "[[4. 6. 6. 6. 6. 6. 4.]\n",
      " [6. 9. 9. 9. 9. 9. 6.]\n",
      " [6. 9. 9. 9. 9. 9. 6.]\n",
      " [6. 9. 9. 9. 9. 9. 6.]\n",
      " [4. 6. 6. 6. 6. 6. 4.]]\n"
     ]
    }
   ],
   "source": [
    "def SuavizadoIntegral(imgIntegral, r, c, n, m):\n",
    "    N = 2*n+1\n",
    "    M = 2*m+1\n",
    "    nrows, ncols = imgIntegral.shape\n",
    "    pad = (M - 1) // 2\n",
    "    integralSuavizada = np.zeros((nrows, ncols))\n",
    "\n",
    "    for r in range(nrows):\n",
    "        for c in range(ncols):\n",
    "            r0 = r - pad\n",
    "            c0 = c - pad\n",
    "            r1 = r + pad\n",
    "            c1 = c + pad\n",
    "\n",
    "            if r1 >= nrows:\n",
    "                r1 = nrows - 1\n",
    "            if c1 >= ncols:\n",
    "                c1 = ncols - 1\n",
    "\n",
    "            s0 = imgIntegral[r1, c1]\n",
    "            s1 = 0\n",
    "            s2 = 0\n",
    "            s3 = 0\n",
    "\n",
    "            if r0 > 0:\n",
    "                s1 = imgIntegral[r0-1, c1]\n",
    "            if c0 > 0:\n",
    "                s2 = imgIntegral[r1, c0-1]\n",
    "            if r0 > 0 and c0 > 0:\n",
    "                s3 = imgIntegral[r0-1, c0-1]\n",
    "            integralSuavizada[r, c] = s0 - s1 - s2 + s3\n",
    "    return integralSuavizada\n",
    "\n",
    "\n",
    "print(SuavizadoIntegral(intImg, 0, 0, 1, 1))\n"
   ]
  }
 ],
 "metadata": {
  "kernelspec": {
   "display_name": "base",
   "language": "python",
   "name": "python3"
  },
  "language_info": {
   "codemirror_mode": {
    "name": "ipython",
    "version": 3
   },
   "file_extension": ".py",
   "mimetype": "text/x-python",
   "name": "python",
   "nbconvert_exporter": "python",
   "pygments_lexer": "ipython3",
   "version": "3.10.9"
  },
  "orig_nbformat": 4
 },
 "nbformat": 4,
 "nbformat_minor": 2
}
