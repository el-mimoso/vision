{
 "cells": [
  {
   "cell_type": "code",
   "execution_count": 3,
   "metadata": {},
   "outputs": [],
   "source": [
    "import numpy as np\n",
    "import matplotlib.pyplot as plt\n",
    "import scipy.signal as sig\n",
    "import scipy.fftpack as fft\n"
   ]
  },
  {
   "cell_type": "code",
   "execution_count": 4,
   "metadata": {},
   "outputs": [],
   "source": [
    "a = np.array([1, 2, 3, 4, 5])\n",
    "b = np.array([\n",
    "    [1, 2, 3, 4, 5],\n",
    "    [2, 3, 4, 5, 6],\n",
    "    [3, 4, 5, 6, 7],\n",
    "    [4, 5, 6, 7, 8]])\n"
   ]
  },
  {
   "cell_type": "code",
   "execution_count": 18,
   "metadata": {},
   "outputs": [],
   "source": [
    "def convolveDesacopladaDot(img, kernelx, kernely):\n",
    "\n",
    "    kernelx = np.flip(kernelx)\n",
    "    kernely = np.flip(kernely)\n",
    "\n",
    "    nrows, ncols = img.shape\n",
    "    output = np.zeros((nrows, ncols))\n",
    "\n",
    "    for i in range(nrows):\n",
    "      output[i, :] = convolveDot(img[i, :], kernelx)\n",
    "    # print(output)\n",
    "    output2 = np.zeros((nrows, ncols))\n",
    "\n",
    "    for j in range(ncols):\n",
    "      output2[:, j] = convolveDot(output[:, j], kernely)\n",
    "    # print(output2)\n",
    "    return output2\n",
    "\n",
    "\n",
    "def convolveDot(signal, kernel):\n",
    "    ker_size = kernel.size\n",
    "    sig_size = signal.size\n",
    "    # kernel = kernel[::-1]\n",
    "    pad_size = (ker_size - 1) // 2\n",
    "    padded_signal = np.pad(signal, pad_size, mode='wrap')\n",
    "    output = np.zeros(sig_size)\n",
    "    output = [np.dot(padded_signal[k:k+ker_size], kernel)\n",
    "              for k in range(sig_size)]\n",
    "    return output\n",
    "\n",
    "\n",
    "def completeConvolution(img, kernel):\n",
    "    kernel = np.flip(kernel)\n",
    "    nrows, ncols = img.shape\n",
    "    krows, kcols = kernel.shape\n",
    "    pad_size = (krows - 1) // 2\n",
    "    padded_img = np.pad(img, pad_size, mode='wrap')\n",
    "    output = np.zeros((nrows, ncols))\n",
    "    for i in range(nrows):\n",
    "        for j in range(ncols):\n",
    "            output[i, j] = np.sum(\n",
    "                padded_img[i:i+krows, j:j+kcols] * kernel)\n",
    "    return output\n",
    "\n",
    "\n",
    "def SuavizadoIntegral(imgIntegral, boxSize):\n",
    "    N = 2*boxSize+1\n",
    "    nrows, ncols = imgIntegral.shape\n",
    "    pad = (N - 1) // 2\n",
    "    integralSuavizada = np.zeros((nrows, ncols))\n",
    "\n",
    "    for r in range(nrows):\n",
    "        for c in range(ncols):\n",
    "            r0 = r - pad\n",
    "            c0 = c - pad\n",
    "            r1 = r + pad\n",
    "            c1 = c + pad\n",
    "\n",
    "            if r1 >= nrows:\n",
    "                r1 = nrows - 1\n",
    "            if c1 >= ncols:\n",
    "                c1 = ncols - 1\n",
    "\n",
    "            s0 = imgIntegral[r1, c1]\n",
    "            s1 = 0\n",
    "            s2 = 0\n",
    "            s3 = 0\n",
    "\n",
    "            if r0 > 0:\n",
    "                s1 = imgIntegral[r0-1, c1]\n",
    "            if c0 > 0:\n",
    "                s2 = imgIntegral[r1, c0-1]\n",
    "            if r0 > 0 and c0 > 0:\n",
    "                s3 = imgIntegral[r0-1, c0-1]\n",
    "            integralSuavizada[r, c] = s0 - s1 - s2 + s3\n",
    "    return integralSuavizada/(N*N)\n",
    "\n",
    "\n",
    "def integralImg(img):\n",
    "    nr = img.shape[0]\n",
    "    nc = img.shape[1]\n",
    "    intImg = np.zeros((nr, nc))\n",
    "    intImg = np.cumsum(np.cumsum(img, axis=0), axis=1)\n",
    "    return intImg\n",
    "\n"
   ]
  },
  {
   "cell_type": "code",
   "execution_count": 6,
   "metadata": {},
   "outputs": [
    {
     "data": {
      "text/plain": [
       "array([[6, 7, 3, 4, 5, 6, 7, 3, 4],\n",
       "       [7, 8, 4, 5, 6, 7, 8, 4, 5],\n",
       "       [4, 5, 1, 2, 3, 4, 5, 1, 2],\n",
       "       [5, 6, 2, 3, 4, 5, 6, 2, 3],\n",
       "       [6, 7, 3, 4, 5, 6, 7, 3, 4],\n",
       "       [7, 8, 4, 5, 6, 7, 8, 4, 5],\n",
       "       [4, 5, 1, 2, 3, 4, 5, 1, 2],\n",
       "       [5, 6, 2, 3, 4, 5, 6, 2, 3]])"
      ]
     },
     "execution_count": 6,
     "metadata": {},
     "output_type": "execute_result"
    }
   ],
   "source": [
    "np.pad(b, 2, mode='wrap')"
   ]
  },
  {
   "cell_type": "code",
   "execution_count": 7,
   "metadata": {},
   "outputs": [
    {
     "data": {
      "text/plain": [
       "array([[1140., 1065.,  915., 1065., 1140.],\n",
       "       [1125., 1050.,  900., 1050., 1125.],\n",
       "       [ 990.,  915.,  765.,  915.,  990.],\n",
       "       [1095., 1020.,  870., 1020., 1095.]])"
      ]
     },
     "execution_count": 7,
     "metadata": {},
     "output_type": "execute_result"
    }
   ],
   "source": [
    "convolveDesacopladaDot(b, a, a)"
   ]
  },
  {
   "cell_type": "code",
   "execution_count": 8,
   "metadata": {},
   "outputs": [],
   "source": [
    "x = np.array([[7, 8, 1, 4, 2],\n",
    "              [10, 11, 5, 3, 4],\n",
    "              [1, 20, 6, 9, 12],\n",
    "              [13, 1, 15, 14, 0]])\n",
    "h = np.array(\n",
    "    [[1, 4, 6, 4, 1],\n",
    "     [2, 8, 12, 8, 2],\n",
    "     [1, 4, 6, 4, 1],\n",
    "     ])\n",
    "h1 = np.array(\n",
    "    [1, 4, 6, 4, 1])\n",
    "h2 = np.array([1,2,1])"
   ]
  },
  {
   "cell_type": "code",
   "execution_count": 9,
   "metadata": {},
   "outputs": [
    {
     "name": "stdout",
     "output_type": "stream",
     "text": [
      "[[413 437 389 335 346]\n",
      " [492 521 428 348 387]\n",
      " [537 603 593 527 492]\n",
      " [458 519 554 514 451]]\n"
     ]
    }
   ],
   "source": [
    "from scipy.signal import convolve2d\n",
    "\n",
    "scipi = convolve2d(x, h, mode='same', boundary='wrap')\n",
    "print(scipi)\n"
   ]
  },
  {
   "cell_type": "code",
   "execution_count": 10,
   "metadata": {},
   "outputs": [
    {
     "data": {
      "text/plain": [
       "array([[413., 437., 389., 335., 346.],\n",
       "       [492., 521., 428., 348., 387.],\n",
       "       [537., 603., 593., 527., 492.],\n",
       "       [458., 519., 554., 514., 451.]])"
      ]
     },
     "execution_count": 10,
     "metadata": {},
     "output_type": "execute_result"
    }
   ],
   "source": [
    "convolveDesacopladaDot(x, h1, h2)"
   ]
  },
  {
   "cell_type": "code",
   "execution_count": 12,
   "metadata": {},
   "outputs": [
    {
     "data": {
      "text/plain": [
       "array([[ 86.,  91.,  83.,  69.,  63.],\n",
       "       [ 93., 108.,  79.,  62.,  70.],\n",
       "       [ 96., 114., 110.,  94.,  82.],\n",
       "       [ 85., 101., 100.,  90.,  76.]])"
      ]
     },
     "execution_count": 12,
     "metadata": {},
     "output_type": "execute_result"
    }
   ],
   "source": [
    "h = np.array([\n",
    "    [1, 2, 1],\n",
    "    [1, 2, 1],[1, 2, 1]\n",
    "])\n",
    "completeConvolution(x, h)"
   ]
  },
  {
   "cell_type": "code",
   "execution_count": 25,
   "metadata": {},
   "outputs": [
    {
     "data": {
      "text/plain": [
       "array([[ 99,  93, 102, 111, 105],\n",
       "       [ 69,  63,  72,  81,  75],\n",
       "       [114, 108, 117, 126, 120],\n",
       "       [159, 153, 162, 171, 165],\n",
       "       [129, 123, 132, 141, 135]])"
      ]
     },
     "execution_count": 25,
     "metadata": {},
     "output_type": "execute_result"
    }
   ],
   "source": [
    "x = np.array([[1, 2, 3, 4, 5],\n",
    "              [6, 7, 8, 9, 10],\n",
    "              [11, 12, 13, 14, 15],\n",
    "              [16, 17, 18, 19, 20],\n",
    "              [21, 22, 23, 24, 25]])\n",
    "h = np.array([\n",
    "    [1, 1, 1],\n",
    "    [1, 1, 1],\n",
    "    [1, 1, 1]\n",
    "])\n",
    "convolve2d(x, h, mode='same', boundary='wrap')\n"
   ]
  },
  {
   "cell_type": "code",
   "execution_count": 14,
   "metadata": {},
   "outputs": [],
   "source": [
    "# remove the for loops of the following function\n",
    "\n",
    "\n",
    "\n",
    "\n"
   ]
  },
  {
   "cell_type": "code",
   "execution_count": 17,
   "metadata": {},
   "outputs": [
    {
     "data": {
      "text/plain": [
       "array([[  1,   3,   6,  10,  15],\n",
       "       [  7,  16,  27,  40,  55],\n",
       "       [ 18,  39,  63,  90, 120],\n",
       "       [ 34,  72, 114, 160, 210],\n",
       "       [ 55, 115, 180, 250, 325]])"
      ]
     },
     "execution_count": 17,
     "metadata": {},
     "output_type": "execute_result"
    }
   ],
   "source": [
    "x = np.array([[1, 2, 3, 4, 5],\n",
    "              [6, 7, 8, 9, 10],\n",
    "              [11, 12, 13, 14, 15],\n",
    "              [16, 17, 18, 19, 20],\n",
    "              [21, 22, 23, 24, 25]])\n",
    "\n",
    "integralImg(x)"
   ]
  },
  {
   "cell_type": "code",
   "execution_count": 26,
   "metadata": {},
   "outputs": [
    {
     "name": "stdout",
     "output_type": "stream",
     "text": [
      "[[ 99.  93. 102. 111. 105.]\n",
      " [ 69.  63.  72.  81.  75.]\n",
      " [114. 108. 117. 126. 120.]\n",
      " [159. 153. 162. 171. 165.]\n",
      " [129. 123. 132. 141. 135.]]\n"
     ]
    }
   ],
   "source": [
    "y = np.ones((3, 3))\n",
    "\n",
    "x = np.array([[1, 2, 3, 4, 5],\n",
    "              [6, 7, 8, 9, 10],\n",
    "              [11, 12, 13, 14, 15],\n",
    "              [16, 17, 18, 19, 20],\n",
    "              [21, 22, 23, 24, 25]])\n",
    "\n",
    "aux = np.zeros((5, 5))\n",
    "aux[0, 0] = 1\n",
    "\n",
    "y = completeConvolution(aux, y)\n",
    "\n",
    "YFFT = fft.fft2(y)\n",
    "XFFT = fft.fft2(x)\n",
    "\n",
    "IFFT = fft.ifft2(YFFT*XFFT)\n",
    "\n",
    "print(IFFT.real)\n"
   ]
  }
 ],
 "metadata": {
  "kernelspec": {
   "display_name": "base",
   "language": "python",
   "name": "python3"
  },
  "language_info": {
   "codemirror_mode": {
    "name": "ipython",
    "version": 3
   },
   "file_extension": ".py",
   "mimetype": "text/x-python",
   "name": "python",
   "nbconvert_exporter": "python",
   "pygments_lexer": "ipython3",
   "version": "3.10.9"
  },
  "orig_nbformat": 4
 },
 "nbformat": 4,
 "nbformat_minor": 2
}
