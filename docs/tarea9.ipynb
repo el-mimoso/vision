{
 "cells": [
  {
   "attachments": {},
   "cell_type": "markdown",
   "metadata": {},
   "source": [
    "# Visión Tarea 9 \n",
    "### Hacer la implementación para calcular la convolución utilizando Imágenes integrales.\n",
    "#### Daniel Castro Pineda"
   ]
  },
  {
   "cell_type": "code",
   "execution_count": 129,
   "metadata": {},
   "outputs": [],
   "source": [
    "import numpy as np\n",
    "from time import perf_counter\n",
    "import cv2\n",
    "import numba as nb"
   ]
  },
  {
   "attachments": {},
   "cell_type": "markdown",
   "metadata": {},
   "source": [
    "## a) Escribir una función que permita calcular la imagen integral. La función se llamará Integral y recibirá como paramentos una imagen I y regresará una imagen integral H. "
   ]
  },
  {
   "cell_type": "code",
   "execution_count": 130,
   "metadata": {},
   "outputs": [],
   "source": [
    "# @nb.jit(nopython=True, parallel=True)\n",
    "@nb.jit(nopython=True)\n",
    "def integralImg(img):\n",
    "    nr = img.shape[0]\n",
    "    nc = img.shape[1]\n",
    "    intImg = np.zeros((nr, nc))\n",
    "    for r in range(nr):\n",
    "        for c in range(nc):\n",
    "            intImg[r, c] = img[r, c]\n",
    "            if r > 0:\n",
    "                intImg[r, c] += intImg[r-1, c]\n",
    "            if c > 0:\n",
    "                intImg[r, c] += intImg[r, c-1]\n",
    "            if r > 0 and c > 0:\n",
    "                intImg[r, c] -= intImg[r-1, c-1]\n",
    "    return intImg\n"
   ]
  },
  {
   "cell_type": "code",
   "execution_count": 131,
   "metadata": {},
   "outputs": [],
   "source": [
    "x = np.ones((5, 7), dtype=np.uint8)"
   ]
  },
  {
   "cell_type": "code",
   "execution_count": 132,
   "metadata": {},
   "outputs": [
    {
     "name": "stdout",
     "output_type": "stream",
     "text": [
      "Time:  0.09176458300134982\n",
      "Imagen integral\n",
      "[[ 1.  2.  3.  4.  5.  6.  7.]\n",
      " [ 2.  4.  6.  8. 10. 12. 14.]\n",
      " [ 3.  6.  9. 12. 15. 18. 21.]\n",
      " [ 4.  8. 12. 16. 20. 24. 28.]\n",
      " [ 5. 10. 15. 20. 25. 30. 35.]]\n",
      "Imagen integral utilizando OpenCV\n",
      "[[ 1  2  3  4  5  6  7]\n",
      " [ 2  4  6  8 10 12 14]\n",
      " [ 3  6  9 12 15 18 21]\n",
      " [ 4  8 12 16 20 24 28]\n",
      " [ 5 10 15 20 25 30 35]]\n"
     ]
    }
   ],
   "source": [
    "ticks = perf_counter()\n",
    "intImg = integralImg(x)\n",
    "ticks = perf_counter() - ticks\n",
    "print(\"Time: \", ticks)\n",
    "print(\"Imagen integral\")\n",
    "print(intImg)\n",
    "\n",
    "print(\"Imagen integral utilizando OpenCV\")\n",
    "cvIntImg = cv2.integral(x)\n",
    "cvIntImg = cvIntImg[1:, 1:]\n",
    "print(cvIntImg)\n"
   ]
  },
  {
   "attachments": {},
   "cell_type": "markdown",
   "metadata": {},
   "source": [
    "## b) Escribir una función que realice la implementación de una función llamada Caja que recibirá como parámetros la imagen integral H, el renglón r y columna c, así como el numero de renglones N y de columnas M de la caja con N = 2n+1 y M=2m+1,"
   ]
  },
  {
   "cell_type": "code",
   "execution_count": 133,
   "metadata": {},
   "outputs": [],
   "source": [
    "\n",
    "def caja(intImg, r, c, n, m):\n",
    "    N = 2*n+1\n",
    "    M = 2*m+1\n",
    "    pad = (N - 1) // 2\n",
    "\n",
    "    nrows, ncols = intImg.shape\n",
    "\n",
    "    r0 = r - pad\n",
    "    c0 = c - pad\n",
    "    r1 = r + pad\n",
    "    c1 = c + pad\n",
    "\n",
    "    if r1 >= nrows:\n",
    "        r1 = nrows - 1\n",
    "    if c1 >= ncols:\n",
    "        c1 = ncols - 1\n",
    "\n",
    "    s0 = intImg[r1, c1]\n",
    "    s1 = 0\n",
    "    s2 = 0\n",
    "    s3 = 0\n",
    "\n",
    "    if r0 > 0:\n",
    "        s1 = intImg[r0-1, c1]\n",
    "    if c0 > 0:\n",
    "        s2 = intImg[r1, c0-1]\n",
    "    if r0 > 0 and c0 > 0:\n",
    "        s3 = intImg[r0-1, c0-1]\n",
    "    out = s0 - s1 - s2 + s3\n",
    "    return out\n",
    "\n",
    "\n",
    "def cajaCompleta(img, n, m):\n",
    "\n",
    "    N = 2*n+1\n",
    "    M = 2*m+1\n",
    "\n",
    "    kernelx = np.ones((N))\n",
    "    kernely = np.ones((M))\n",
    "\n",
    "    # print(kernelx)\n",
    "    # print(kernely)\n",
    "\n",
    "    nrows, ncols = img.shape\n",
    "    k_size = kernelx.size\n",
    "    # krows, kcols = kernel.shape\n",
    "    pad_size = (k_size - 1) // 2\n",
    "    padded_img = np.pad(img, pad_size, mode='constant')\n",
    "    # print(padded_img)\n",
    "    output = np.zeros((nrows, ncols))\n",
    "\n",
    "    for i in range(nrows):\n",
    "        # print(img[i,:], i )\n",
    "        output[i, :] = convolveDot(img[i, :], kernelx)\n",
    "    # print(output)\n",
    "    output2 = np.zeros((nrows, ncols))\n",
    "\n",
    "    for j in range(ncols):\n",
    "        output2[:, j] = convolveDot(output[:, j], kernely)\n",
    "        # print(img[:, j])\n",
    "    # print(output2)\n",
    "    return output2\n",
    "\n",
    "\n",
    "def convolveDot(signal, kernel):\n",
    "    ker_size = kernel.size\n",
    "    sig_size = signal.size\n",
    "    # kernel = kernel[::-1]\n",
    "    pad_size = (ker_size - 1) // 2\n",
    "    padded_signal = np.pad(signal, pad_size, mode='constant')\n",
    "    output = np.zeros(sig_size)\n",
    "    output = [np.dot(padded_signal[k:k+ker_size], kernel)\n",
    "              for k in range(sig_size)]\n",
    "    return output\n"
   ]
  },
  {
   "attachments": {},
   "cell_type": "markdown",
   "metadata": {},
   "source": [
    "Probamos con una caja de 3x3 (n=1, m=1) para las localidades : \n",
    "\n",
    "$$\\ I[1,1] = 4$$\n",
    "\n",
    "$$\\ I[2,3] = 9$$\n"
   ]
  },
  {
   "cell_type": "code",
   "execution_count": 134,
   "metadata": {},
   "outputs": [
    {
     "name": "stdout",
     "output_type": "stream",
     "text": [
      "4.0\n",
      "9.0\n"
     ]
    }
   ],
   "source": [
    "print(caja(intImg, 0, 0, 1, 1))\n",
    "print(caja(intImg, 2, 3, 1, 1))"
   ]
  },
  {
   "attachments": {},
   "cell_type": "markdown",
   "metadata": {},
   "source": [
    "Ahora se realiza la operación de caja para la imagen completa."
   ]
  },
  {
   "cell_type": "code",
   "execution_count": 135,
   "metadata": {},
   "outputs": [
    {
     "name": "stdout",
     "output_type": "stream",
     "text": [
      "[[4. 6. 6. 6. 6. 6. 4.]\n",
      " [6. 9. 9. 9. 9. 9. 6.]\n",
      " [6. 9. 9. 9. 9. 9. 6.]\n",
      " [6. 9. 9. 9. 9. 9. 6.]\n",
      " [4. 6. 6. 6. 6. 6. 4.]]\n"
     ]
    }
   ],
   "source": [
    "print(cajaCompleta(x, 1, 1))\n"
   ]
  },
  {
   "attachments": {},
   "cell_type": "markdown",
   "metadata": {},
   "source": [
    "## d) Escribir una función SuavizadoIntegral que recibirá como parámetros la imagen I y el tamaño de la caja,"
   ]
  },
  {
   "cell_type": "code",
   "execution_count": 136,
   "metadata": {},
   "outputs": [],
   "source": [
    "@nb.jit(nopython=True)\n",
    "def SuavizadoIntegral(img, boxSize):\n",
    "    imgIntegral = integralImg(img)\n",
    "    N = 2*boxSize+1\n",
    "    nrows, ncols = imgIntegral.shape\n",
    "    pad = (N - 1) // 2\n",
    "    integralSuavizada = np.zeros((nrows, ncols))\n",
    "\n",
    "    for r in range(nrows):\n",
    "        for c in range(ncols):\n",
    "            r0 = r - pad\n",
    "            c0 = c - pad\n",
    "            r1 = r + pad\n",
    "            c1 = c + pad\n",
    "\n",
    "            if r1 >= nrows:\n",
    "                r1 = nrows - 1\n",
    "            if c1 >= ncols:\n",
    "                c1 = ncols - 1\n",
    "\n",
    "            s0 = imgIntegral[r1, c1]\n",
    "            s1 = 0\n",
    "            s2 = 0\n",
    "            s3 = 0\n",
    "\n",
    "            if r0 > 0:\n",
    "                s1 = imgIntegral[r0-1, c1]\n",
    "            if c0 > 0:\n",
    "                s2 = imgIntegral[r1, c0-1]\n",
    "            if r0 > 0 and c0 > 0:\n",
    "                s3 = imgIntegral[r0-1, c0-1]\n",
    "            integralSuavizada[r, c] = s0 - s1 - s2 + s3\n",
    "    return integralSuavizada\n"
   ]
  },
  {
   "cell_type": "code",
   "execution_count": 137,
   "metadata": {},
   "outputs": [
    {
     "name": "stdout",
     "output_type": "stream",
     "text": [
      "Time:  0.12032520799766644\n",
      "[[4. 6. 6. 6. 6. 6. 4.]\n",
      " [6. 9. 9. 9. 9. 9. 6.]\n",
      " [6. 9. 9. 9. 9. 9. 6.]\n",
      " [6. 9. 9. 9. 9. 9. 6.]\n",
      " [4. 6. 6. 6. 6. 6. 4.]]\n"
     ]
    }
   ],
   "source": [
    "ticks = perf_counter()\n",
    "a = SuavizadoIntegral(x, 1)\n",
    "ticks = perf_counter() - ticks\n",
    "print(\"Time: \", ticks)\n",
    "print(a)\n",
    "\n"
   ]
  },
  {
   "attachments": {},
   "cell_type": "markdown",
   "metadata": {},
   "source": [
    "## d) Mostrar que la función del inciso c y el suavizador de caja dan el mismo resultado de forma numérica"
   ]
  },
  {
   "attachments": {},
   "cell_type": "markdown",
   "metadata": {},
   "source": [
    "Para la siguiente imagen:\n",
    "<table>\n",
    "    <tr>\n",
    "        <td>1</td>\n",
    "        <td>1</td>\n",
    "        <td>1</td>\n",
    "        <td>1</td>\n",
    "        <td>1</td>\n",
    "        <td>1</td>\n",
    "        <td>1</td>\n",
    "    </tr>\n",
    "    <tr>\n",
    "        <td>1</td>\n",
    "        <td>1</td>\n",
    "        <td>1</td>\n",
    "        <td>1</td>\n",
    "        <td>1</td>\n",
    "        <td>1</td>\n",
    "        <td>1</td>\n",
    "    </tr>\n",
    "    <tr>\n",
    "        <td>1</td>\n",
    "        <td>1</td>\n",
    "        <td>1</td>\n",
    "        <td>1</td>\n",
    "        <td>1</td>\n",
    "        <td>1</td>\n",
    "        <td>1</td>\n",
    "    </tr>\n",
    "    <tr>\n",
    "        <td>1</td>\n",
    "        <td>1</td>\n",
    "        <td>1</td>\n",
    "        <td>1</td>\n",
    "        <td>1</td>\n",
    "        <td>1</td>\n",
    "        <td>1</td>\n",
    "    </tr>\n",
    "    <tr>\n",
    "        <td>1</td>\n",
    "        <td>1</td>\n",
    "        <td>1</td>\n",
    "        <td>1</td>\n",
    "        <td>1</td>\n",
    "        <td>1</td>\n",
    "        <td>1</td>\n",
    "    </tr>\n",
    "</table>\n",
    "\n",
    "\n",
    "La salida esperada es:\n",
    "\n",
    "<table>\n",
    "    <tr>\n",
    "        <td>4</td>\n",
    "        <td>6</td>\n",
    "        <td>6</td>\n",
    "        <td>6</td>\n",
    "        <td>6</td>\n",
    "        <td>6</td>\n",
    "        <td>4</td>\n",
    "    </tr>\n",
    "    <tr>\n",
    "        <td>6</td>\n",
    "        <td>9</td>\n",
    "        <td>9</td>\n",
    "        <td>9</td>\n",
    "        <td>9</td>\n",
    "        <td>9</td>\n",
    "        <td>6</td>\n",
    "    </tr>\n",
    "    <tr>\n",
    "        <td>6</td>\n",
    "        <td>9</td>\n",
    "        <td>9</td>\n",
    "        <td>9</td>\n",
    "        <td>9</td>\n",
    "        <td>9</td>\n",
    "        <td>6</td>\n",
    "    </tr>\n",
    "    <tr>\n",
    "        <td>6</td>\n",
    "        <td>9</td>\n",
    "        <td>9</td>\n",
    "        <td>9</td>\n",
    "        <td>9</td>\n",
    "        <td>9</td>\n",
    "        <td>6</td>\n",
    "    </tr>\n",
    "    <tr>\n",
    "        <td>4</td>\n",
    "        <td>9</td>\n",
    "        <td>9</td>\n",
    "        <td>9</td>\n",
    "        <td>9</td>\n",
    "        <td>9</td>\n",
    "        <td>4</td>\n",
    "    </tr>\n",
    "</table>"
   ]
  },
  {
   "cell_type": "code",
   "execution_count": 138,
   "metadata": {},
   "outputs": [
    {
     "name": "stdout",
     "output_type": "stream",
     "text": [
      "Caja completa: \n",
      "[[4. 6. 6. 6. 6. 6. 4.]\n",
      " [6. 9. 9. 9. 9. 9. 6.]\n",
      " [6. 9. 9. 9. 9. 9. 6.]\n",
      " [6. 9. 9. 9. 9. 9. 6.]\n",
      " [4. 6. 6. 6. 6. 6. 4.]]\n",
      "Suavizado Integral: \n",
      "[[4. 6. 6. 6. 6. 6. 4.]\n",
      " [6. 9. 9. 9. 9. 9. 6.]\n",
      " [6. 9. 9. 9. 9. 9. 6.]\n",
      " [6. 9. 9. 9. 9. 9. 6.]\n",
      " [4. 6. 6. 6. 6. 6. 4.]]\n"
     ]
    }
   ],
   "source": [
    "print(\"Caja completa: \")\n",
    "print(cajaCompleta(x, 1, 1))\n",
    "\n",
    "print(\"Suavizado Integral: \")\n",
    "print(SuavizadoIntegral(x, 1))\n"
   ]
  },
  {
   "attachments": {},
   "cell_type": "markdown",
   "metadata": {},
   "source": [
    "##  e) Hacer una gráfica que muestre el tiempo que tarda la convolución con imágenes integrales y la convolución desacoplada para el kernel de caja. Los cálculos se harán para valores N=M y N=3, 5, 7, 9, …. 41.\n"
   ]
  },
  {
   "cell_type": "code",
   "execution_count": 139,
   "metadata": {},
   "outputs": [],
   "source": [
    "x = np.ones((1024,1024))"
   ]
  },
  {
   "cell_type": "code",
   "execution_count": 140,
   "metadata": {},
   "outputs": [
    {
     "name": "stdout",
     "output_type": "stream",
     "text": [
      "[0.2763461249996908, 0.006305416001850972, 0.0063497499977529515, 0.006314750000456115, 0.006258834000618663, 0.006433708000258775, 0.006302665999101009, 0.0062989170000946615, 0.006231499999557855, 0.006376624998665648, 0.006376875000569271, 0.0063496660004602745, 0.00626462500076741, 0.006332749999273801, 0.006468540999776451, 0.006315792001259979, 0.00629658300022129, 0.006300375000137137, 0.0062373750006372575, 0.006383207997714635] [1, 2, 3, 4, 5, 6, 7, 8, 9, 10, 11, 12, 13, 14, 15, 16, 17, 18, 19, 20]\n"
     ]
    }
   ],
   "source": [
    "tamkernel = [i for i in range(1, 21)]\n",
    "tiempoSI = []\n",
    "for i in tamkernel:\n",
    "    ticks = perf_counter()\n",
    "    a = SuavizadoIntegral(x, i)\n",
    "    # print(a)\n",
    "    ticks = perf_counter() - ticks\n",
    "    tiempoSI.append(ticks)\n",
    "    # print(i*2+1)\n",
    "\n",
    "print(tiempoSI, tamkernel)"
   ]
  },
  {
   "cell_type": "code",
   "execution_count": 141,
   "metadata": {},
   "outputs": [
    {
     "name": "stdout",
     "output_type": "stream",
     "text": [
      "[1.765367416999652, 1.7774745829992753, 1.7661429159998079, 1.7497821249999106, 1.7358264579997922, 1.7679916249981034, 1.7706894170005398, 1.739510583000083, 1.7743779580014234, 1.7996566660003737, 1.7790877499974158, 1.7794221670010302, 1.792778166000062, 1.770890583000437, 1.8103138750011567, 1.7837477080029203, 1.7701506250014063, 1.7840293749977718, 1.7814587499997288, 1.7966676670002926] [1, 2, 3, 4, 5, 6, 7, 8, 9, 10, 11, 12, 13, 14, 15, 16, 17, 18, 19, 20]\n"
     ]
    }
   ],
   "source": [
    "tiempoCC = []\n",
    "for i in tamkernel:\n",
    "    ticks = perf_counter()\n",
    "    a = cajaCompleta(x, i, i)\n",
    "    # print(a)\n",
    "    ticks = perf_counter() - ticks\n",
    "    tiempoCC.append(ticks)\n",
    "\n",
    "print(tiempoCC, tamkernel)"
   ]
  },
  {
   "cell_type": "code",
   "execution_count": 142,
   "metadata": {},
   "outputs": [
    {
     "data": {
      "image/png": "[encoded data removed]",
      "text/plain": [
       "<Figure size 640x480 with 1 Axes>"
      ]
     },
     "metadata": {},
     "output_type": "display_data"
    }
   ],
   "source": [
    "import matplotlib.pyplot as plt\n",
    "\n",
    "N = [i*2+1 for i in tamkernel]\n",
    "\n",
    "\n",
    "\n",
    "plt.plot(N, tiempoSI, label=\"Suavizado Integral\")\n",
    "plt.plot(N, tiempoCC, label=\"Caja Completa\")\n",
    "\n",
    "plt.xlabel(\"Tamaño del kernel\")\n",
    "plt.ylabel(\"Tiempo de ejecución\")\n",
    "\n",
    "plt.legend()\n",
    "plt.grid()\n",
    "plt.show()"
   ]
  },
  {
   "cell_type": "code",
   "execution_count": 145,
   "metadata": {},
   "outputs": [
    {
     "name": "stdout",
     "output_type": "stream",
     "text": [
      "[0.2763461249996908, 0.2826515410015418, 0.2890012909992947, 0.29531604099975084, 0.3015748750003695, 0.3080085830006283, 0.3143112489997293, 0.32061016599982395, 0.3268416659993818, 0.33321829099804745, 0.3395951659986167, 0.345944831999077, 0.3522094569998444, 0.3585422069991182, 0.36501074799889466, 0.37132654000015464, 0.3776231230003759, 0.38392349800051306, 0.3901608730011503, 0.39654408099886496] [1.765367416999652, 3.5428419999989273, 5.308984915998735, 7.058767040998646, 8.794593498998438, 10.562585123996541, 12.333274540997081, 14.072785123997164, 15.847163081998588, 17.64681974799896, 19.425907497996377, 21.205329664997407, 22.99810783099747, 24.768998413997906, 26.579312288999063, 28.363059997001983, 30.13321062200339, 31.91723999700116, 33.69869874700089, 35.49536641400118]\n"
     ]
    },
    {
     "data": {
      "image/png": "[encoded data removed]",
      "text/plain": [
       "<Figure size 640x480 with 1 Axes>"
      ]
     },
     "metadata": {},
     "output_type": "display_data"
    }
   ],
   "source": [
    "AcumuladoSI = []\n",
    "AcumuladoCC = []\n",
    "\n",
    "for i in range(len(tiempoSI)):\n",
    "    AcumuladoSI.append(sum(tiempoSI[:i+1]))\n",
    "    AcumuladoCC.append(sum(tiempoCC[:i+1]))\n",
    "print(AcumuladoSI, AcumuladoCC)\n",
    "\n",
    "plt.plot(N, AcumuladoSI, label=\"Suavizado Integral Tiempo Acumulado\")\n",
    "plt.plot(N, AcumuladoCC, label=\"Caja Completa Tiempo Acumulado\")\n",
    "plt.xlabel(\"Tamaño del kernel\")\n",
    "plt.ylabel(\"Tiempo de ejecución\")\n",
    "plt.legend()\n",
    "plt.grid()"
   ]
  },
  {
   "attachments": {},
   "cell_type": "markdown",
   "metadata": {},
   "source": [
    "Se puede observar que la convolución con imágenes integrales es más rápida que la convolución desacoplada. Siendo más notoria la diferencia entre más grande es la caja. Además se es aun más notoria al acumular los tiempos de ejecución. "
   ]
  }
 ],
 "metadata": {
  "kernelspec": {
   "display_name": "base",
   "language": "python",
   "name": "python3"
  },
  "language_info": {
   "codemirror_mode": {
    "name": "ipython",
    "version": 3
   },
   "file_extension": ".py",
   "mimetype": "text/x-python",
   "name": "python",
   "nbconvert_exporter": "python",
   "pygments_lexer": "ipython3",
   "version": "3.10.9"
  },
  "orig_nbformat": 4
 },
 "nbformat": 4,
 "nbformat_minor": 2
}
